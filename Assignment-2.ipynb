{
 "cells": [
  {
   "cell_type": "code",
   "execution_count": 1,
   "metadata": {},
   "outputs": [
    {
     "name": "stdout",
     "output_type": "stream",
     "text": [
      "Enter the subject marks83\n",
      "Enter the subject marks 75\n",
      "Enter the subject marks 89\n",
      "Enter the subject marks 90\n",
      "Enter the subject marks 87\n",
      "sum of five subject is 424\n",
      "Percentage of five subject is 84.0\n",
      "A+\n"
     ]
    }
   ],
   "source": [
    "#Write a program which takes 5 inputs from user for different subject's marks,total it and generate mark sheet using grades\n",
    "math = int(input('Enter the subject marks'))\n",
    "computer = int(input('Enter the subject marks'))\n",
    "english = int(input('Enter the subject marks'))\n",
    "islamiat = int(input('Enter the subject marks'))\n",
    "urdu = int(input('Enter the subject marks'))\n",
    "sum = math + computer + english + islamiat + urdu\n",
    "print(\"sum of five subject is\",sum)\n",
    "per = float (sum*100//500)\n",
    "print(\"Percentage of five subject is\",per)\n",
    "if per > 80 and per <=100 :\n",
    "  print(\"A+\")\n",
    "elif per > 70 and per <=80 :\n",
    "   print(\"A\")\n",
    "elif per >60 and per <=70 :\n",
    "   print(\"B\")\n",
    "elif per > 50 and per <=60 :\n",
    "  print(\"C\")\n",
    "elif per > 40 and per <=50 :\n",
    "   print(\"D\")\n",
    "elif per > 0 and per <=40 :\n",
    "   print(\"FAIL\")\n",
    "else :\n",
    "   print(\"you add inoppropiate value \")"
   ]
  },
  {
   "cell_type": "code",
   "execution_count": 4,
   "metadata": {},
   "outputs": [
    {
     "name": "stdout",
     "output_type": "stream",
     "text": [
      "enter the two number :56\n",
      "Number is even\n"
     ]
    }
   ],
   "source": [
    "#Write a program which take input from user and identify that the given number is even or odd\n",
    "num=int(input(\"enter the two number :\"))\n",
    "if num % 2==0 :\n",
    " print(\"Number is even\")\n",
    "else :\n",
    " print(\"Number is odd\")"
   ]
  },
  {
   "cell_type": "code",
   "execution_count": 5,
   "metadata": {},
   "outputs": [
    {
     "name": "stdout",
     "output_type": "stream",
     "text": [
      "Length of given list is 10\n"
     ]
    }
   ],
   "source": [
    "# Write a program which print the length of the list?\n",
    "List_length =[0,1,2,3,4,5,6,7,8,9]\n",
    "print(\"Length of given list is\",len(List_length))"
   ]
  },
  {
   "cell_type": "code",
   "execution_count": 22,
   "metadata": {},
   "outputs": [
    {
     "name": "stdout",
     "output_type": "stream",
     "text": [
      "Largest element is: 450\n"
     ]
    }
   ],
   "source": [
    "# Write a Python program to get the largest number from a numeric list\n",
    "list1 = [10, 20, 4, 45 ,99,100,450] \n",
    "print(\"Largest element is:\", max(list1)) "
   ]
  },
  {
   "cell_type": "code",
   "execution_count": 24,
   "metadata": {
    "scrolled": true
   },
   "outputs": [
    {
     "name": "stdout",
     "output_type": "stream",
     "text": [
      "1\n",
      "1\n",
      "2\n",
      "3\n"
     ]
    }
   ],
   "source": [
    "# Take a list,say for example this one:\n",
    "a=[1,1,2,3,5,8,13,21,34,55,89]\n",
    "for i in a:\n",
    "    if i<5:\n",
    "        print(i)"
   ]
  },
  {
   "cell_type": "code",
   "execution_count": 1,
   "metadata": {},
   "outputs": [
    {
     "name": "stdout",
     "output_type": "stream",
     "text": [
      "Sum of all the elements in given list: 74\n"
     ]
    }
   ],
   "source": [
    "# Write a Python program to sum all the numeric items in a list\n",
    "list1 = [11,5,17,18,23]\n",
    "total = sum(list1)\n",
    "print(\"Sum of all the elements in given list:\",total)"
   ]
  },
  {
   "cell_type": "code",
   "execution_count": null,
   "metadata": {},
   "outputs": [],
   "source": []
  }
 ],
 "metadata": {
  "kernelspec": {
   "display_name": "Python 3",
   "language": "python",
   "name": "python3"
  },
  "language_info": {
   "codemirror_mode": {
    "name": "ipython",
    "version": 3
   },
   "file_extension": ".py",
   "mimetype": "text/x-python",
   "name": "python",
   "nbconvert_exporter": "python",
   "pygments_lexer": "ipython3",
   "version": "3.7.4"
  }
 },
 "nbformat": 4,
 "nbformat_minor": 2
}
